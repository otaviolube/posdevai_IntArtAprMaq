{
 "cells": [
  {
   "cell_type": "markdown",
   "metadata": {},
   "source": [
    "# Inteligência Artificial e Aprendizado de Máquina\n",
    "\n",
    "**Prof. Dr. Francisco de Assis Boldt**  \n",
    "**Pós-graduação em Desenvolvimento de Aplicações Inteligentes**  \n",
    "**Inteligência Artificial e Aprendizado de Máquina — Atividade 01 - Regressão**  "
   ]
  },
  {
   "cell_type": "markdown",
   "metadata": {},
   "source": [
    "**Nome:** Otávio Lube dos Santos  \n",
    "**Matrícula:** 20231DEVAI0157"
   ]
  },
  {
   "cell_type": "code",
   "execution_count": null,
   "metadata": {
    "_cell_guid": "b1076dfc-b9ad-4769-8c92-a6c4dae69d19",
    "_uuid": "8f2839f25d086af736a60e9eeb907d3b93b6e0e5",
    "execution": {
     "iopub.execute_input": "2025-01-13T02:29:38.498726Z",
     "iopub.status.busy": "2025-01-13T02:29:38.498349Z",
     "iopub.status.idle": "2025-01-13T02:29:38.512875Z",
     "shell.execute_reply": "2025-01-13T02:29:38.511564Z",
     "shell.execute_reply.started": "2025-01-13T02:29:38.498696Z"
    },
    "trusted": true
   },
   "outputs": [],
   "source": [
    "# This Python 3 environment comes with many helpful analytics libraries installed\n",
    "# It is defined by the kaggle/python Docker image: https://github.com/kaggle/docker-python\n",
    "# For example, here's several helpful packages to load\n",
    "\n",
    "import numpy as np # linear algebra\n",
    "import pandas as pd # data processing, CSV file I/O (e.g. pd.read_csv)\n",
    "\n",
    "from sklearn.model_selection import train_test_split\n",
    "from sklearn.ensemble import RandomForestClassifier\n",
    "from sklearn.ensemble import StackingClassifier\n",
    "from sklearn.linear_model import LogisticRegression\n",
    "from sklearn.svm import SVC\n",
    "from sklearn.metrics import accuracy_score\n",
    "\n",
    "# Input data files are available in the read-only \"../input/\" directory\n",
    "# For example, running this (by clicking run or pressing Shift+Enter) will list all files under the input directory\n",
    "\n",
    "import os\n",
    "for dirname, _, filenames in os.walk('/kaggle/input'):\n",
    "    for filename in filenames:\n",
    "        print(os.path.join(dirname, filename))\n",
    "\n",
    "# You can write up to 20GB to the current directory (/kaggle/working/) that gets preserved as output when you create a version using \"Save & Run All\" \n",
    "# You can also write temporary files to /kaggle/temp/, but they won't be saved outside of the current session"
   ]
  },
  {
   "cell_type": "code",
   "execution_count": null,
   "metadata": {
    "execution": {
     "iopub.execute_input": "2025-01-13T02:29:41.481920Z",
     "iopub.status.busy": "2025-01-13T02:29:41.481575Z",
     "iopub.status.idle": "2025-01-13T02:29:41.502658Z",
     "shell.execute_reply": "2025-01-13T02:29:41.501296Z",
     "shell.execute_reply.started": "2025-01-13T02:29:41.481893Z"
    },
    "trusted": true
   },
   "outputs": [],
   "source": [
    "train = pd.read_csv(\"/kaggle/input/titanic/train.csv\")\n",
    "train.head()"
   ]
  },
  {
   "cell_type": "code",
   "execution_count": null,
   "metadata": {
    "execution": {
     "iopub.execute_input": "2025-01-13T02:29:44.253634Z",
     "iopub.status.busy": "2025-01-13T02:29:44.253241Z",
     "iopub.status.idle": "2025-01-13T02:29:44.276257Z",
     "shell.execute_reply": "2025-01-13T02:29:44.274952Z",
     "shell.execute_reply.started": "2025-01-13T02:29:44.253603Z"
    },
    "trusted": true
   },
   "outputs": [],
   "source": [
    "test = pd.read_csv(\"/kaggle/input/titanic/test.csv\")\n",
    "test.head()"
   ]
  },
  {
   "cell_type": "code",
   "execution_count": null,
   "metadata": {
    "execution": {
     "iopub.execute_input": "2025-01-13T02:29:48.089181Z",
     "iopub.status.busy": "2025-01-13T02:29:48.088854Z",
     "iopub.status.idle": "2025-01-13T02:29:48.098392Z",
     "shell.execute_reply": "2025-01-13T02:29:48.097505Z",
     "shell.execute_reply.started": "2025-01-13T02:29:48.089157Z"
    },
    "trusted": true
   },
   "outputs": [],
   "source": [
    "# Preenchendo valores ausentes\n",
    "train['Age'].fillna(train['Age'].median(), inplace=True)\n",
    "test['Age'].fillna(test['Age'].median(), inplace=True)\n",
    "train['Embarked'].fillna(train['Embarked'].mode()[0], inplace=True)\n",
    "test['Fare'].fillna(test['Fare'].median(), inplace=True)"
   ]
  },
  {
   "cell_type": "code",
   "execution_count": null,
   "metadata": {
    "execution": {
     "iopub.execute_input": "2025-01-13T02:30:03.601016Z",
     "iopub.status.busy": "2025-01-13T02:30:03.600626Z",
     "iopub.status.idle": "2025-01-13T02:30:03.611721Z",
     "shell.execute_reply": "2025-01-13T02:30:03.610520Z",
     "shell.execute_reply.started": "2025-01-13T02:30:03.600985Z"
    },
    "trusted": true
   },
   "outputs": [],
   "source": [
    "# Convertendo variáveis categóricas em numéricas\n",
    "train['Sex'] = train['Sex'].map({'male': 0, 'female': 1})\n",
    "test['Sex'] = test['Sex'].map({'male': 0, 'female': 1})\n",
    "train['Embarked'] = train['Embarked'].map({'C': 0, 'Q': 1, 'S': 2})\n",
    "test['Embarked'] = test['Embarked'].map({'C': 0, 'Q': 1, 'S': 2})"
   ]
  },
  {
   "cell_type": "code",
   "execution_count": null,
   "metadata": {
    "execution": {
     "iopub.execute_input": "2025-01-13T02:30:16.533121Z",
     "iopub.status.busy": "2025-01-13T02:30:16.532682Z",
     "iopub.status.idle": "2025-01-13T02:30:16.544931Z",
     "shell.execute_reply": "2025-01-13T02:30:16.543474Z",
     "shell.execute_reply.started": "2025-01-13T02:30:16.533079Z"
    },
    "trusted": true
   },
   "outputs": [],
   "source": [
    "# Criando novas features\n",
    "train['FamilySize'] = train['SibSp'] + train['Parch'] + 1\n",
    "test['FamilySize'] = test['SibSp'] + test['Parch'] + 1\n",
    "train['IsAlone'] = (train['FamilySize'] == 1).astype(int)\n",
    "test['IsAlone'] = (test['FamilySize'] == 1).astype(int)"
   ]
  },
  {
   "cell_type": "code",
   "execution_count": null,
   "metadata": {
    "execution": {
     "iopub.execute_input": "2025-01-13T02:30:28.425026Z",
     "iopub.status.busy": "2025-01-13T02:30:28.424693Z",
     "iopub.status.idle": "2025-01-13T02:30:28.433499Z",
     "shell.execute_reply": "2025-01-13T02:30:28.432177Z",
     "shell.execute_reply.started": "2025-01-13T02:30:28.425000Z"
    },
    "trusted": true
   },
   "outputs": [],
   "source": [
    "# Selecionando features\n",
    "features = ['Pclass', 'Sex', 'Age', 'Fare', 'Embarked', 'FamilySize', 'IsAlone']\n",
    "X = train[features].copy()\n",
    "y = train['Survived']\n",
    "X_test = test[features].copy()"
   ]
  },
  {
   "cell_type": "code",
   "execution_count": null,
   "metadata": {
    "execution": {
     "iopub.execute_input": "2025-01-13T02:30:38.877971Z",
     "iopub.status.busy": "2025-01-13T02:30:38.877625Z",
     "iopub.status.idle": "2025-01-13T02:30:38.891681Z",
     "shell.execute_reply": "2025-01-13T02:30:38.890642Z",
     "shell.execute_reply.started": "2025-01-13T02:30:38.877946Z"
    },
    "trusted": true
   },
   "outputs": [],
   "source": [
    "# Garantindo que não existam valores ausentes nos datasets\n",
    "X.fillna(X.median(), inplace=True)\n",
    "X_test.fillna(X_test.median(), inplace=True)"
   ]
  },
  {
   "cell_type": "code",
   "execution_count": null,
   "metadata": {
    "execution": {
     "iopub.execute_input": "2025-01-13T02:30:50.001993Z",
     "iopub.status.busy": "2025-01-13T02:30:50.001683Z",
     "iopub.status.idle": "2025-01-13T02:30:50.017760Z",
     "shell.execute_reply": "2025-01-13T02:30:50.016643Z",
     "shell.execute_reply.started": "2025-01-13T02:30:50.001969Z"
    },
    "trusted": true
   },
   "outputs": [],
   "source": [
    "# Dividindo os dados em treino e validação\n",
    "X_train, X_val, y_train, y_val = train_test_split(X, y, test_size=0.2, random_state=42)\n",
    "X_train.fillna(X_train.median(), inplace=True)\n",
    "X_val.fillna(X_val.median(), inplace=True)"
   ]
  },
  {
   "cell_type": "code",
   "execution_count": null,
   "metadata": {
    "execution": {
     "iopub.execute_input": "2025-01-13T02:31:02.223082Z",
     "iopub.status.busy": "2025-01-13T02:31:02.222717Z",
     "iopub.status.idle": "2025-01-13T02:31:02.227812Z",
     "shell.execute_reply": "2025-01-13T02:31:02.226787Z",
     "shell.execute_reply.started": "2025-01-13T02:31:02.223052Z"
    },
    "trusted": true
   },
   "outputs": [],
   "source": [
    "# Construindo modelos base\n",
    "log_clf = LogisticRegression(max_iter=1000, random_state=42)\n",
    "rnd_clf = RandomForestClassifier(random_state=42, n_estimators=100, max_depth=5)\n",
    "svm_clf = SVC(probability=True, random_state=42)"
   ]
  },
  {
   "cell_type": "code",
   "execution_count": null,
   "metadata": {
    "execution": {
     "iopub.execute_input": "2025-01-13T02:31:12.853446Z",
     "iopub.status.busy": "2025-01-13T02:31:12.853030Z",
     "iopub.status.idle": "2025-01-13T02:31:12.858805Z",
     "shell.execute_reply": "2025-01-13T02:31:12.857186Z",
     "shell.execute_reply.started": "2025-01-13T02:31:12.853379Z"
    },
    "trusted": true
   },
   "outputs": [],
   "source": [
    "# Construindo o StackingClassifier\n",
    "stacking_clf = StackingClassifier(\n",
    "    estimators=[\n",
    "        ('lr', log_clf),\n",
    "        ('rf', rnd_clf),\n",
    "        ('svc', svm_clf)\n",
    "    ],\n",
    "    final_estimator=LogisticRegression(random_state=42)\n",
    ")"
   ]
  },
  {
   "cell_type": "code",
   "execution_count": null,
   "metadata": {
    "execution": {
     "iopub.execute_input": "2025-01-13T02:31:26.655772Z",
     "iopub.status.busy": "2025-01-13T02:31:26.655344Z",
     "iopub.status.idle": "2025-01-13T02:31:28.227529Z",
     "shell.execute_reply": "2025-01-13T02:31:28.226386Z",
     "shell.execute_reply.started": "2025-01-13T02:31:26.655742Z"
    },
    "trusted": true
   },
   "outputs": [],
   "source": [
    "# Treinando o StackingClassifier\n",
    "stacking_clf.fit(X_train, y_train)"
   ]
  },
  {
   "cell_type": "code",
   "execution_count": null,
   "metadata": {
    "execution": {
     "iopub.execute_input": "2025-01-13T02:31:41.474730Z",
     "iopub.status.busy": "2025-01-13T02:31:41.474342Z",
     "iopub.status.idle": "2025-01-13T02:31:41.500375Z",
     "shell.execute_reply": "2025-01-13T02:31:41.499323Z",
     "shell.execute_reply.started": "2025-01-13T02:31:41.474702Z"
    },
    "trusted": true
   },
   "outputs": [],
   "source": [
    "# Avaliando no conjunto de validação\n",
    "y_pred = stacking_clf.predict(X_val)\n",
    "accuracy = accuracy_score(y_val, y_pred)\n",
    "print(f\"Acurácia no conjunto de validação: {accuracy:.4f}\")"
   ]
  },
  {
   "cell_type": "code",
   "execution_count": null,
   "metadata": {
    "execution": {
     "iopub.execute_input": "2025-01-13T02:31:57.610221Z",
     "iopub.status.busy": "2025-01-13T02:31:57.609881Z",
     "iopub.status.idle": "2025-01-13T02:31:57.643102Z",
     "shell.execute_reply": "2025-01-13T02:31:57.641730Z",
     "shell.execute_reply.started": "2025-01-13T02:31:57.610193Z"
    },
    "trusted": true
   },
   "outputs": [],
   "source": [
    "# Previsões no conjunto de teste\n",
    "test_predictions = stacking_clf.predict(X_test)"
   ]
  },
  {
   "cell_type": "code",
   "execution_count": null,
   "metadata": {
    "execution": {
     "iopub.execute_input": "2025-01-13T02:32:10.971623Z",
     "iopub.status.busy": "2025-01-13T02:32:10.971233Z",
     "iopub.status.idle": "2025-01-13T02:32:10.977206Z",
     "shell.execute_reply": "2025-01-13T02:32:10.975872Z",
     "shell.execute_reply.started": "2025-01-13T02:32:10.971591Z"
    },
    "trusted": true
   },
   "outputs": [],
   "source": [
    "# Criando o arquivo de submissão\n",
    "submission = pd.DataFrame({\n",
    "    \"PassengerId\": test[\"PassengerId\"],\n",
    "    \"Survived\": test_predictions\n",
    "})"
   ]
  },
  {
   "cell_type": "code",
   "execution_count": null,
   "metadata": {
    "execution": {
     "iopub.execute_input": "2025-01-13T02:32:22.536519Z",
     "iopub.status.busy": "2025-01-13T02:32:22.536151Z",
     "iopub.status.idle": "2025-01-13T02:32:22.543261Z",
     "shell.execute_reply": "2025-01-13T02:32:22.542163Z",
     "shell.execute_reply.started": "2025-01-13T02:32:22.536489Z"
    },
    "trusted": true
   },
   "outputs": [],
   "source": [
    "submission.to_csv(\"submission.csv\", index=False)\n",
    "print(\"Submissão criada: submission.csv\")"
   ]
  }
 ],
 "metadata": {
  "kaggle": {
   "accelerator": "none",
   "dataSources": [
    {
     "databundleVersionId": 26502,
     "sourceId": 3136,
     "sourceType": "competition"
    }
   ],
   "dockerImageVersionId": 30822,
   "isGpuEnabled": false,
   "isInternetEnabled": false,
   "language": "python",
   "sourceType": "notebook"
  },
  "kernelspec": {
   "display_name": "Python 3",
   "language": "python",
   "name": "python3"
  },
  "language_info": {
   "codemirror_mode": {
    "name": "ipython",
    "version": 3
   },
   "file_extension": ".py",
   "mimetype": "text/x-python",
   "name": "python",
   "nbconvert_exporter": "python",
   "pygments_lexer": "ipython3",
   "version": "3.10.12"
  }
 },
 "nbformat": 4,
 "nbformat_minor": 4
}
