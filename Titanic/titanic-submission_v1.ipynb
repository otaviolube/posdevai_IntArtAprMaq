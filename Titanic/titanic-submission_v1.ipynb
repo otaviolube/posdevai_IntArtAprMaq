{
 "cells": [
  {
   "cell_type": "markdown",
   "metadata": {},
   "source": [
    "# Inteligência Artificial e Aprendizado de Máquina\n",
    "\n",
    "**Prof. Dr. Francisco de Assis Boldt**  \n",
    "**Pós-graduação em Desenvolvimento de Aplicações Inteligentes**  \n",
    "**Inteligência Artificial e Aprendizado de Máquina — Atividade 02 - Titanic Competition**  "
   ]
  },
  {
   "cell_type": "markdown",
   "metadata": {},
   "source": [
    "**Nome:** Otávio Lube dos Santos  \n",
    "**Matrícula:** 20231DEVAI0157"
   ]
  },
  {
   "cell_type": "code",
   "execution_count": null,
   "metadata": {
    "_cell_guid": "b1076dfc-b9ad-4769-8c92-a6c4dae69d19",
    "_uuid": "8f2839f25d086af736a60e9eeb907d3b93b6e0e5",
    "execution": {
     "iopub.execute_input": "2025-01-11T14:39:45.828049Z",
     "iopub.status.busy": "2025-01-11T14:39:45.827736Z",
     "iopub.status.idle": "2025-01-11T14:39:46.282244Z",
     "shell.execute_reply": "2025-01-11T14:39:46.280878Z",
     "shell.execute_reply.started": "2025-01-11T14:39:45.828019Z"
    },
    "trusted": true
   },
   "outputs": [],
   "source": [
    "# This Python 3 environment comes with many helpful analytics libraries installed\n",
    "# It is defined by the kaggle/python Docker image: https://github.com/kaggle/docker-python\n",
    "# For example, here's several helpful packages to load\n",
    "\n",
    "import numpy as np # linear algebra\n",
    "import pandas as pd # data processing, CSV file I/O (e.g. pd.read_csv)\n",
    "\n",
    "# Input data files are available in the read-only \"../input/\" directory\n",
    "# For example, running this (by clicking run or pressing Shift+Enter) will list all files under the input directory\n",
    "\n",
    "import os\n",
    "for dirname, _, filenames in os.walk('/kaggle/input'):\n",
    "    for filename in filenames:\n",
    "        print(os.path.join(dirname, filename))\n",
    "\n",
    "# You can write up to 20GB to the current directory (/kaggle/working/) that gets preserved as output when you create a version using \"Save & Run All\" \n",
    "# You can also write temporary files to /kaggle/temp/, but they won't be saved outside of the current session"
   ]
  },
  {
   "cell_type": "code",
   "execution_count": null,
   "metadata": {
    "execution": {
     "iopub.execute_input": "2025-01-11T14:40:36.464337Z",
     "iopub.status.busy": "2025-01-11T14:40:36.463993Z",
     "iopub.status.idle": "2025-01-11T14:40:36.504048Z",
     "shell.execute_reply": "2025-01-11T14:40:36.502944Z",
     "shell.execute_reply.started": "2025-01-11T14:40:36.464311Z"
    },
    "trusted": true
   },
   "outputs": [],
   "source": [
    "train_data = pd.read_csv(\"/kaggle/input/titanic/train.csv\")\n",
    "train_data.head()"
   ]
  },
  {
   "cell_type": "code",
   "execution_count": null,
   "metadata": {
    "execution": {
     "iopub.execute_input": "2025-01-11T14:41:07.555772Z",
     "iopub.status.busy": "2025-01-11T14:41:07.555336Z",
     "iopub.status.idle": "2025-01-11T14:41:07.577134Z",
     "shell.execute_reply": "2025-01-11T14:41:07.575753Z",
     "shell.execute_reply.started": "2025-01-11T14:41:07.555739Z"
    },
    "trusted": true
   },
   "outputs": [],
   "source": [
    "test_data = pd.read_csv(\"/kaggle/input/titanic/test.csv\")\n",
    "test_data.head()"
   ]
  },
  {
   "cell_type": "code",
   "execution_count": null,
   "metadata": {
    "execution": {
     "iopub.execute_input": "2025-01-11T14:41:57.919975Z",
     "iopub.status.busy": "2025-01-11T14:41:57.919559Z",
     "iopub.status.idle": "2025-01-11T14:41:57.930876Z",
     "shell.execute_reply": "2025-01-11T14:41:57.929771Z",
     "shell.execute_reply.started": "2025-01-11T14:41:57.919943Z"
    },
    "trusted": true
   },
   "outputs": [],
   "source": [
    "women = train_data.loc[train_data.Sex == 'female'][\"Survived\"]\n",
    "rate_women = sum(women)/len(women)\n",
    "\n",
    "print(\"% of women who survived:\", rate_women)"
   ]
  },
  {
   "cell_type": "code",
   "execution_count": null,
   "metadata": {
    "execution": {
     "iopub.execute_input": "2025-01-11T14:42:20.645944Z",
     "iopub.status.busy": "2025-01-11T14:42:20.645534Z",
     "iopub.status.idle": "2025-01-11T14:42:20.653976Z",
     "shell.execute_reply": "2025-01-11T14:42:20.653012Z",
     "shell.execute_reply.started": "2025-01-11T14:42:20.645909Z"
    },
    "trusted": true
   },
   "outputs": [],
   "source": [
    "men = train_data.loc[train_data.Sex == 'male'][\"Survived\"]\n",
    "rate_men = sum(men)/len(men)\n",
    "\n",
    "print(\"% of men who survived:\", rate_men)"
   ]
  },
  {
   "cell_type": "code",
   "execution_count": null,
   "metadata": {
    "execution": {
     "iopub.execute_input": "2025-01-11T14:43:26.272969Z",
     "iopub.status.busy": "2025-01-11T14:43:26.272550Z",
     "iopub.status.idle": "2025-01-11T14:43:27.574246Z",
     "shell.execute_reply": "2025-01-11T14:43:27.572874Z",
     "shell.execute_reply.started": "2025-01-11T14:43:26.272935Z"
    },
    "trusted": true
   },
   "outputs": [],
   "source": [
    "from sklearn.ensemble import RandomForestClassifier\n",
    "\n",
    "y = train_data[\"Survived\"]\n",
    "\n",
    "features = [\"Pclass\", \"Sex\", \"SibSp\", \"Parch\"]\n",
    "X = pd.get_dummies(train_data[features])\n",
    "X_test = pd.get_dummies(test_data[features])\n",
    "\n",
    "model = RandomForestClassifier(n_estimators=100, max_depth=5, random_state=1)\n",
    "model.fit(X, y)\n",
    "predictions = model.predict(X_test)\n",
    "\n",
    "output = pd.DataFrame({'PassengerId': test_data.PassengerId, 'Survived': predictions})\n",
    "output.to_csv('submission.csv', index=False)\n",
    "print(\"Your submission was successfully saved!\")"
   ]
  }
 ],
 "metadata": {
  "kaggle": {
   "accelerator": "none",
   "dataSources": [
    {
     "databundleVersionId": 26502,
     "sourceId": 3136,
     "sourceType": "competition"
    }
   ],
   "dockerImageVersionId": 30822,
   "isGpuEnabled": false,
   "isInternetEnabled": false,
   "language": "python",
   "sourceType": "notebook"
  },
  "kernelspec": {
   "display_name": "Python 3",
   "language": "python",
   "name": "python3"
  },
  "language_info": {
   "codemirror_mode": {
    "name": "ipython",
    "version": 3
   },
   "file_extension": ".py",
   "mimetype": "text/x-python",
   "name": "python",
   "nbconvert_exporter": "python",
   "pygments_lexer": "ipython3",
   "version": "3.10.12"
  }
 },
 "nbformat": 4,
 "nbformat_minor": 4
}
